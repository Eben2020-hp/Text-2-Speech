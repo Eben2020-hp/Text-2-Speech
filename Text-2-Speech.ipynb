{
 "cells": [
  {
   "cell_type": "code",
   "execution_count": 1,
   "metadata": {},
   "outputs": [],
   "source": [
    "import re\n",
    "import random\n",
    "import time\n",
    "import wikipedia\n",
    "import win32com.client as winc1\n",
    "import pyttsx3\n",
    "\n",
    "\n",
    "Sherlock = winc1.Dispatch(\"SAPI.SpVoice\")\n",
    "\n",
    "Enola = pyttsx3.init()\n",
    "voices = Enola.getProperty('voices') \n",
    "Enola.setProperty('voice', voices[1].id)\n",
    "newVoiceRate = 145\n",
    "Enola.setProperty('rate',newVoiceRate)"
   ]
  },
  {
   "cell_type": "code",
   "execution_count": 2,
   "metadata": {
    "scrolled": false
   },
   "outputs": [
    {
     "output_type": "stream",
     "name": "stdout",
     "text": [
      "fopeifeMon50+2@Kalman.orgtorantoInd963819SIAleaguedamxerugsapeCorbitend\n"
     ]
    },
    {
     "output_type": "execute_result",
     "data": {
      "text/plain": [
       "1"
      ]
     },
     "metadata": {},
     "execution_count": 2
    }
   ],
   "source": [
    "Enola.say(\"Sherlock!...Sherlock!!...Have you heard? Mr. Kalman is dead!!\")\n",
    "Enola.runAndWait()\n",
    "Sherlock.Speak(\"Yes I've heard. I think its a mystery that we have to solve\")\n",
    "Enola.say(\"What makes you think like that?\")\n",
    "Enola.runAndWait()\n",
    "Sherlock.Speak(\"Look at what I found in the mail box\")\n",
    "\n",
    "words = 'fopeifeMon50+2@Kalman.orgtorantoInd963819SIAleaguedamxerugsapeCorbitend'\n",
    "print(words)\n",
    "\n",
    "Enola.say(\"What is this gibberish?. Someone really went through the trouble to sent you this.\")\n",
    "Enola.runAndWait()\n",
    "Sherlock.Speak(\"Looks that way does it not. How about we try and decode it?\")\n",
    "Enola.say(\"Whats the point of my opinion? You have already started the engines of your brain.\")\n",
    "Enola.runAndWait()\n",
    "Sherlock.Speak(\"HaHaHa.... My sweet little Enola, You know me so well.\")"
   ]
  },
  {
   "cell_type": "code",
   "execution_count": 3,
   "metadata": {},
   "outputs": [],
   "source": [
    "debugged = []   #A list to keep all the words that we extract. So that we can form evidence of the crime."
   ]
  },
  {
   "cell_type": "code",
   "execution_count": 4,
   "metadata": {},
   "outputs": [
    {
     "output_type": "execute_result",
     "data": {
      "text/plain": [
       "1"
      ]
     },
     "metadata": {},
     "execution_count": 4
    }
   ],
   "source": [
    "Enola.say(\"Well? Do you have any plan on how to start?\")\n",
    "Enola.runAndWait()\n",
    "Sherlock.Speak(\"A few. Yes.. But tell me a bit about him\")\n",
    "Enola.say(\"Well where to start. Kalman was a celebrity unlike any other. He was actually the reason for the biggest pharmaceutical company\")\n",
    "Enola.runAndWait()\n",
    "Sherlock.Speak(\"Kalman.org\")\n",
    "Enola.say(\"Yes.. And rumour has it that they were working on a secret project. Its called operation something\")\n",
    "Enola.runAndWait()\n",
    "Sherlock.Speak(\"Orange\")       \n",
    "Enola.say(\"How in the world did you know that?\")\n",
    "Enola.runAndWait()\n",
    "Sherlock.Speak(\"Well if you look carefully you can see 2 things. 'ope' which stands for operation and the number 963819 is the hexadecimal color code of red-orange\")"
   ]
  },
  {
   "cell_type": "code",
   "execution_count": 5,
   "metadata": {},
   "outputs": [
    {
     "output_type": "stream",
     "name": "stdout",
     "text": [
      "ope\nRemaining Words are:\t fifeMon50+2@Kalman.orgtorantoInd963819SIAleaguedamxerugsapeCorbitend\n\n\n963819\nRemaining Words are:\t fifeMon50+2@Kalman.orgtorantoIndSIAleaguedamxerugsapeCorbitend\n"
     ]
    }
   ],
   "source": [
    "a = re.compile(r'ope')                      \n",
    "\n",
    "matches = a.findall(words)\n",
    "for match in matches:\n",
    "    print(match)\n",
    "    debugged.append(match + 'ration')\n",
    "words = str(words.replace(match,''))\n",
    "print('Remaining Words are:\\t',words)\n",
    "\n",
    "\n",
    "print('\\n')\n",
    "b = re.compile(r'\\d\\d\\d\\d\\d\\d')\n",
    "matches = b.findall(words)\n",
    "for match in matches:\n",
    "    print(match)\n",
    "    debugged.append(match)\n",
    "words = str(words.replace(match,''))\n",
    "print('Remaining Words are:\\t',words)"
   ]
  },
  {
   "cell_type": "code",
   "execution_count": 6,
   "metadata": {},
   "outputs": [
    {
     "output_type": "execute_result",
     "data": {
      "text/plain": [
       "1"
      ]
     },
     "metadata": {},
     "execution_count": 6
    }
   ],
   "source": [
    "Enola.say(\"Ok. So thats it then. Kalmans death and the experiment was related\")\n",
    "Enola.runAndWait()\n",
    "Sherlock.Speak(\"Don't Jump the gun yet Enola. Remember the name Toranto?\")\n",
    "Enola.say(\"Yes.. Corbit Toranto. The biggest druglord in US.\")\n",
    "Enola.runAndWait()\n",
    "Sherlock.Speak(\"Well Look who I found\")"
   ]
  },
  {
   "cell_type": "code",
   "execution_count": 7,
   "metadata": {},
   "outputs": [
    {
     "output_type": "stream",
     "name": "stdout",
     "text": [
      "\n\n<re.Match object; span=(53, 59), match='Corbit'>\nRemaining Words are:\t fifeMon50+2@Kalman.orgtorantoIndSIAleaguedamxerugsapeend\n\n\n<re.Match object; span=(22, 29), match='toranto'>\nRemaining Words are:\t fifeMon50+2@Kalman.orgIndSIAleaguedamxerugsapeend\n"
     ]
    }
   ],
   "source": [
    "print('\\n')\n",
    "c = re.compile(r'[A-Z][a-z]+it')\n",
    "matches = c.finditer(words)\n",
    "for match in matches:\n",
    "    print(match)\n",
    "    x=match.span()\n",
    "    debugged.append(words[x[0]:x[1]])\n",
    "    words = str(words.replace(words[x[0]:x[1]],''))\n",
    "    print('Remaining Words are:\\t',words)\n",
    "\n",
    "    \n",
    "print('\\n')\n",
    "d = re.compile(r't[a-z]+o')\n",
    "matches = d.finditer(words)\n",
    "for match in matches:\n",
    "    print(match)\n",
    "    x=match.span()\n",
    "    debugged.append(words[x[0]:x[1]])\n",
    "    words = str(words.replace(words[x[0]:x[1]],''))\n",
    "    print('Remaining Words are:\\t',words)"
   ]
  },
  {
   "cell_type": "code",
   "execution_count": 8,
   "metadata": {},
   "outputs": [
    {
     "output_type": "stream",
     "name": "stdout",
     "text": [
      "\n\n"
     ]
    }
   ],
   "source": [
    "print('\\n')\n",
    "Enola.say(\"Oh Noo... What could this mean?... And Look\")\n",
    "Enola.runAndWait()"
   ]
  },
  {
   "cell_type": "code",
   "execution_count": 9,
   "metadata": {},
   "outputs": [
    {
     "output_type": "stream",
     "name": "stdout",
     "text": [
      "@Kalman.org\n",
      "Remaining Words are:\t fifeMon50+2IndSIAleaguedamxerugsapeend\n",
      "\n",
      "\n",
      "Mon\n",
      "Remaining Words are:\t fife50+2IndSIAleaguedamxerugsapeend\n",
      "\n",
      "\n",
      "<re.Match object; span=(32, 35), match='end'>\n",
      "Remaining Words are:\t fife50+2IndSIAleaguedamxerugsape\n"
     ]
    }
   ],
   "source": [
    "patterns = re.compile(r'@\\w+\\.org')             \n",
    "matches = patterns.findall(words)               # findall -> will just return matches as a list of strings if there are no groups.\n",
    "for match in matches:\n",
    "    print(match)\n",
    "    debugged.append(match)\n",
    "words = str(words.replace(match,''))\n",
    "print('Remaining Words are:\\t',words)\n",
    "Sherlock.Speak(\"Good eye Enola\")\n",
    "\n",
    "\n",
    "time.sleep(2)\n",
    "print('\\n')\n",
    "j = re.compile(r'[M]\\w{2}')\n",
    "matches = j.findall(words)\n",
    "for match in matches:\n",
    "    print(match)\n",
    "    debugged.append(match)\n",
    "words = str(words.replace(match,''))\n",
    "print('Remaining Words are:\\t',words)\n",
    "\n",
    "\n",
    "print('\\n')\n",
    "k = re.compile(r'end')\n",
    "matches = k.search(words)\n",
    "print(matches)\n",
    "x=matches.span()\n",
    "debugged.append(words[x[0]:x[1]])\n",
    "words = str(words.replace(words[x[0]:x[1]],''))\n",
    "print('Remaining Words are:\\t',words)"
   ]
  },
  {
   "cell_type": "code",
   "execution_count": 10,
   "metadata": {},
   "outputs": [
    {
     "output_type": "execute_result",
     "data": {
      "text/plain": [
       "1"
      ]
     },
     "metadata": {},
     "execution_count": 10
    }
   ],
   "source": [
    "Enola.say(\"Monend! Isn't the numerical value of monend in Pythagorean Numerology 2?\")\n",
    "Enola.runAndWait()\n",
    "Sherlock.Speak(\"Yes Enola. And that is why I think it should go with the +2 we saw.\")"
   ]
  },
  {
   "cell_type": "code",
   "execution_count": 11,
   "metadata": {},
   "outputs": [
    {
     "output_type": "stream",
     "name": "stdout",
     "text": [
      "\n\n+2\nRemaining Words are:\t fife50IndSIAleaguedamxerugsape\n\n\nife\nRemaining Words are:\t f50IndSIAleaguedamxerugsape\n"
     ]
    }
   ],
   "source": [
    "print('\\n')\n",
    "l = re.compile(r'[+]\\d')\n",
    "matches = l.findall(words)\n",
    "for match in matches:\n",
    "    print(match)\n",
    "    debugged.append(match)\n",
    "words = str(words.replace(match,''))\n",
    "print('Remaining Words are:\\t',words)\n",
    "\n",
    "\n",
    "print('\\n')\n",
    "i = re.compile(r'i\\w\\w')\n",
    "matches = i.findall(words)\n",
    "for match in matches:\n",
    "    print(match)\n",
    "    debugged.append('l'+match)\n",
    "words = str(words.replace(match,''))\n",
    "print('Remaining Words are:\\t',words)"
   ]
  },
  {
   "cell_type": "code",
   "execution_count": 12,
   "metadata": {},
   "outputs": [
    {
     "output_type": "execute_result",
     "data": {
      "text/plain": [
       "1"
      ]
     },
     "metadata": {},
     "execution_count": 12
    }
   ],
   "source": [
    "Enola.say(\"i f e? Could it be Life?\")\n",
    "Enola.runAndWait()\n",
    "Sherlock.Speak(\"Hmmmm.....Could be\")"
   ]
  },
  {
   "cell_type": "code",
   "execution_count": 13,
   "metadata": {},
   "outputs": [
    {
     "output_type": "stream",
     "name": "stdout",
     "text": [
      "\n\n50\nRemaining Words are:\t fIndSIAleaguedamxerugsape\n"
     ]
    }
   ],
   "source": [
    "print('\\n')\n",
    "h = re.compile(r'\\d\\d')\n",
    "matches = h.findall(words)\n",
    "for match in matches:\n",
    "    print(match)\n",
    "    debugged.append(match)\n",
    "words = str(words.replace(match,''))\n",
    "print('Remaining Words are:\\t',words)"
   ]
  },
  {
   "cell_type": "code",
   "execution_count": 14,
   "metadata": {},
   "outputs": [
    {
     "output_type": "execute_result",
     "data": {
      "text/plain": [
       "1"
      ]
     },
     "metadata": {},
     "execution_count": 14
    }
   ],
   "source": [
    "Sherlock.Speak(\"Well Well Well. look what we have here. The Special Investigation Agency\")"
   ]
  },
  {
   "cell_type": "code",
   "execution_count": 15,
   "metadata": {},
   "outputs": [
    {
     "output_type": "stream",
     "name": "stdout",
     "text": [
      "\n\n<re.Match object; span=(4, 7), match='SIA'>\nRemaining Words are:\t fIndleaguedamxerugsape\n"
     ]
    }
   ],
   "source": [
    "print('\\n')\n",
    "e = re.compile(r'[A-Z]{3}')\n",
    "matches = e.search(words)\n",
    "print(matches)\n",
    "x=matches.span()\n",
    "debugged.append(words[x[0]:x[1]])\n",
    "words = str(words.replace(words[x[0]:x[1]],''))\n",
    "print('Remaining Words are:\\t',words)"
   ]
  },
  {
   "cell_type": "code",
   "execution_count": 16,
   "metadata": {},
   "outputs": [
    {
     "output_type": "execute_result",
     "data": {
      "text/plain": [
       "1"
      ]
     },
     "metadata": {},
     "execution_count": 16
    }
   ],
   "source": [
    "Sherlock.Speak(\"And also we have the IND league....This is turning out to be a far more bigger case than I thought it would be\")\n",
    "Enola.say(\"What is IND?\")\n",
    "Enola.runAndWait()\n",
    "Sherlock.Speak(\"Investigational New Drug\")\n",
    "result = wikipedia.summary(\"Investigational New Drug\", sentences = 1)\n",
    "Sherlock.Speak(result)"
   ]
  },
  {
   "cell_type": "code",
   "execution_count": 17,
   "metadata": {},
   "outputs": [
    {
     "output_type": "stream",
     "name": "stdout",
     "text": [
      "\n\n<re.Match object; span=(1, 4), match='Ind'>\nRemaining Words are:\t fleaguedamxerugsape\n\n\n<re.Match object; span=(1, 7), match='league'>\nRemaining Words are:\t fdamxerugsape\n\n\n<re.Match object; span=(0, 1), match='f'>\nRemaining Words are:\t damxerugsape\n"
     ]
    }
   ],
   "source": [
    "print('\\n')\n",
    "f = re.compile(r'I[a-z]{2}')\n",
    "matches = f.search(words)\n",
    "print(matches)\n",
    "x=matches.span()\n",
    "debugged.append(words[x[0]:x[1]])\n",
    "words = str(words.replace(words[x[0]:x[1]],''))\n",
    "print('Remaining Words are:\\t',words)\n",
    "\n",
    "\n",
    "print('\\n')\n",
    "g = re.compile(r'l\\w{5}')\n",
    "matches = g.search(words)\n",
    "print(matches)\n",
    "x=matches.span()\n",
    "debugged.append(words[x[0]:x[1]])\n",
    "words = str(words.replace(words[x[0]:x[1]],''))\n",
    "print('Remaining Words are:\\t',words)\n",
    "\n",
    "\n",
    "print('\\n')\n",
    "m = re.compile(r'^f')\n",
    "matches = m.match(words)\n",
    "print(matches)\n",
    "x=matches.span()\n",
    "debugged.append(words[x[0]:x[1]])\n",
    "words = str(words.replace(words[x[0]:x[1]],''))\n",
    "print('Remaining Words are:\\t',words)"
   ]
  },
  {
   "cell_type": "code",
   "execution_count": 18,
   "metadata": {},
   "outputs": [
    {
     "output_type": "stream",
     "name": "stdout",
     "text": [
      "\n\nd-a-m-x-e-r-u-g-s-a-p-e\n"
     ]
    },
    {
     "output_type": "execute_result",
     "data": {
      "text/plain": [
       "1"
      ]
     },
     "metadata": {},
     "execution_count": 18
    }
   ],
   "source": [
    "Sherlock.Speak(\"Now lets split these up and see what we can make of it\")\n",
    "\n",
    "\n",
    "print('\\n')\n",
    "n = re.sub('\\B','-',words)\n",
    "print(n)\n",
    "\n",
    "Sherlock.Speak(\"I think we are at the end of the line to solve this mystery\")"
   ]
  },
  {
   "cell_type": "code",
   "execution_count": 19,
   "metadata": {},
   "outputs": [
    {
     "output_type": "stream",
     "name": "stdout",
     "text": [
      "\n\ndrugs\nRemaining Words are:\t amxeape\n"
     ]
    }
   ],
   "source": [
    "print('\\n')\n",
    "o = words[0] + words[-7:-3]\n",
    "print(o)\n",
    "\n",
    "debugged.append(o)\n",
    "words = str(words.replace(words[0],''))\n",
    "words = str(words.replace(words[-7:-3],''))\n",
    "print('Remaining Words are:\\t',words)"
   ]
  },
  {
   "cell_type": "code",
   "execution_count": 20,
   "metadata": {},
   "outputs": [
    {
     "output_type": "stream",
     "name": "stdout",
     "text": [
      "\t\t This was when Sherlock and Enola realized that Mr.Kalman was directly of indirectly related to the drug case.\n"
     ]
    },
    {
     "output_type": "execute_result",
     "data": {
      "text/plain": [
       "1"
      ]
     },
     "metadata": {},
     "execution_count": 20
    }
   ],
   "source": [
    "print(\"\\t\\t This was when Sherlock and Enola realized that Mr.Kalman was directly of indirectly related to the drug case.\")\n",
    "Enola.say(\"My God Sherlock. It's just as we suspected. It's all related to drugs. But what is the drug?\")\n",
    "Enola.runAndWait()\n",
    "Sherlock.Speak(\"Hold your horses Enola. I have the perfect equipment for finding it.\")"
   ]
  },
  {
   "cell_type": "code",
   "execution_count": 21,
   "metadata": {},
   "outputs": [
    {
     "output_type": "stream",
     "name": "stdout",
     "text": [
      "\n\nxaampee\nxpemaae\nmepxeaa\neaaempx\npameaxe\npmeeaxa\naxmeaep\nepmeaax\nxeapema\nmxaepae\naxaemep\nxmaeeap\napeeamx\nxmapeea\naeaepmx\naxeapem\nmapexae\nxpaemae\nemaxpae\neepxaam\nxemaaep\neeamxap\naxepame\naaxpeem\nmeaxaep\nampexae\naemaexp\napemaex\nmeeaxpa\neamxpae\npaaemxe\neaxpame\naepemax\neamxape\namexpae\naexmape\naaxmepe\neeaampx\napxaeem\neaxampe\neeapxma\naemaexp\nmepeaxa\naepmaxe\namaepxe\nepaamex\nmepaaex\npaexema\neamepxa\neamapxe\neaemapx\nemexpaa\neampaex\nmaeaepx\npeamexa\nxampaee\naxeemap\namexpea\naxaepem\npemxaae\neapmaex\nmaxpeae\nxemepaa\neeaampx\naaxempe\nepmexaa\naxmeeap\nxaeeapm\nepmexaa\npexemaa\nxemeaap\nemaexpa\nmexpaea\naemxepa\nemaepax\nxpaaeem\neaxmpae\npaaemex\npeaemax\neepmxaa\neapaexm\nexaampe\neaaepxm\nxaemeap\nmeapaxe\nmapeaxe\neaaxemp\npmaxeae\naeapmxe\npemeaax\napxemea\npxaeeam\npmaeexa\npmeaexa\nmeepaax\nxemaaep\npexemaa\naaepmex\npmeaxea\nxpemeaa\nmxaeepa\nexmaape\nxpemaea\neemaapx\nempexaa\nxaaepme\nmaaexep\nexepama\naeaemxp\npeaemxa\naempaex\naeeapmx\nmxeapae\nmapeaxe\nemxepaa\napxmeae\nxpaamee\nepamaxe\naeapxme\nmeexapa\nmeexaap\naamexpe\naepamex\neapexma\nmexaepa\npxeamae\neaxmpae\nepmaxae\npmaaexe\npexaaem\nexmepaa\npaeeaxm\naemeapx\naampeex\nmeeaxap\naxmpeea\nxpemaea\npameexa\nexepama\naepaemx\nxaepaem\nameapxe\npmaeaex\nmxeapea\naaemexp\naxemeap\npaeeamx\nmeaexap\napexeam\namepxae\naxpeeam\napexmae\nmaeaxpe\napeaxem\nmaepxea\neamxeap\nemaeapx\nmxeapea\nxaemepa\nmeaeaxp\naemxepa\naxapeme\nexaeapm\naxmeeap\neameapx\nmxpeeaa\naempeax\nexamepa\nepemaxa\nepaxeam\nepaeamx\nmeaapxe\nmxeaaep\nmeeapxa\nxeepmaa\nameaexp\nmeaxeap\neexpmaa\naempaex\namexepa\naxmepae\nampaeex\nmpaexea\neamaxep\nexaeamp\naeeaxpm\npaeamxe\nexaapem\npexaaem\naxeamep\nxeeapam\napxeame\nxeapmae\npeaemxa\naeeaxpm\nxepmaea\naaeepxm\neepmaxa\nemeaxap\nepxaeam\npxaemae\nmexeaap\naeapxem\nepaemxa\namaepex\neaaemxp\nemapaex\neeamapx\npmeaxea\neapamex\npaameex\naeexapm\nemaaexp\nxaeempa\nmxepaea\naxeepma\nmaeeaxp\nexapema\nemxaape\nxeeapma\naxmepae\naeeapmx\nemexapa\naemxepa\namexaep\npaaxmee\nmpeaaxe\nmexpaae\namepaxe\npmaxaee\npameaex\naaxepme\nmeapaxe\naemaexp\neaxampe\naemepxa\neampaex\neeamxap\npeameax\nmaeapex\nexaemap\nxpeaema\naxmaeep\nampeaex\nepxeama\naamepex\naepmxae\neamaepx\nxameape\nxamepae\naepxema\naepxema\neapemax\nxameaep\napamexe\nmapeeax\neamxepa\naepmaxe\neexapma\neaxmape\naamexep\nmeaxpae\nemaapex\npaxmeae\nxmpeaea\nempeaax\npxaaeem\npeaamex\nxmpaaee\nxaeapem\neaamepx\nxameaep\nmxaaepe\neapaemx\neaamxep\naaxempe\npeemaax\n"
     ]
    }
   ],
   "source": [
    "print('\\n')\n",
    "p = words\n",
    "length = len(words)\n",
    "def drug():\n",
    "    name = \"\".join(random.sample(p, length))\n",
    "    print(name)\n",
    "    if (name == 'peemaax'):\n",
    "        debugged.append(name)\n",
    "    else:\n",
    "        drug()\n",
    "drug()"
   ]
  },
  {
   "cell_type": "code",
   "execution_count": 22,
   "metadata": {},
   "outputs": [
    {
     "output_type": "execute_result",
     "data": {
      "text/plain": [
       "1"
      ]
     },
     "metadata": {},
     "execution_count": 22
    }
   ],
   "source": [
    "Enola.say(\"Alas.. So this is what they have been working on. What do you concur from this Sherlock?\")\n",
    "Enola.runAndWait()\n",
    "Sherlock.Speak(\"I think our anonymous friend was the witness to the death of Kalman. Lets see what he or she was trying to convey.\")\n",
    "Sherlock.Speak(\"And we will alter our life to file here. Let's see what happens\")"
   ]
  },
  {
   "cell_type": "code",
   "execution_count": 23,
   "metadata": {},
   "outputs": [
    {
     "output_type": "stream",
     "name": "stdout",
     "text": [
      "\n\n['operation', '963819', 'Corbit', 'toranto', '@Kalman.org', 'Mon', 'end', '+2', 'file', '50', 'SIA', 'Ind', 'league', 'f', 'drugs', 'peemaax']\n\n\n\t\t\t Operation 963819\n\t\t\t Corbit Toranto \n\t\t\t at Kalman.org\n\t\t\t 4 file 50\n\n\n\t\tSpecial Intelligence Agency\n\t\tInvestigational New Drug League\n\t\t\t Found drugs peemaax\n"
     ]
    }
   ],
   "source": [
    "debugged[8] = 'file'\n",
    "print('\\n')\n",
    "print(debugged)\n",
    "print('\\n')\n",
    "\n",
    "print(\"\\t\\t\\t Operation 963819\")\n",
    "print(\"\\t\\t\\t Corbit Toranto \")\n",
    "print(\"\\t\\t\\t at Kalman.org\")\n",
    "print(\"\\t\\t\\t 4 file 50\")\n",
    "print(\"\\n\")\n",
    "print(\"\\t\\tSpecial Intelligence Agency\")\n",
    "print(\"\\t\\tInvestigational New Drug League\")\n",
    "print(\"\\t\\t\\t Found drugs peemaax\")"
   ]
  },
  {
   "cell_type": "code",
   "execution_count": 24,
   "metadata": {},
   "outputs": [],
   "source": [
    "Sherlock.Speak(\"Enola!! Call the station and tell them to round Corbits house.\")\n",
    "Enola.say(\"Why?? What does this mean?\")\n",
    "Enola.runAndWait()\n",
    "Sherlock.Speak(\"It talks about Operation Orange. And that Corbit Toranto was at Kalman.org for file 50. I think that this was the file which involved the evidences that Kalman was planning to hand over to SIA and the IND league.\")\n",
    "Enola.say(\"Why do you think so Sherlock?\")\n",
    "Enola.runAndWait()\n",
    "Sherlock.Speak(\"Because at the end it talks about finding the drug peemax\")\n",
    "Enola.say(\"Well lets hurry and not waste any more time.\")\n",
    "Enola.runAndWait()"
   ]
  },
  {
   "cell_type": "code",
   "execution_count": null,
   "metadata": {},
   "outputs": [],
   "source": []
  }
 ],
 "metadata": {
  "kernelspec": {
   "display_name": "Python 3",
   "language": "python",
   "name": "python3"
  },
  "language_info": {
   "codemirror_mode": {
    "name": "ipython",
    "version": 3
   },
   "file_extension": ".py",
   "mimetype": "text/x-python",
   "name": "python",
   "nbconvert_exporter": "python",
   "pygments_lexer": "ipython3",
   "version": "3.8.5-final"
  }
 },
 "nbformat": 4,
 "nbformat_minor": 4
}